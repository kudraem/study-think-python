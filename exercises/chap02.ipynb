{
 "cells": [
  {
   "cell_type": "markdown",
   "id": "70ee273d",
   "metadata": {},
   "source": [
    "## Exercises"
   ]
  },
  {
   "cell_type": "code",
   "execution_count": 1,
   "id": "c9e6cab4",
   "metadata": {
    "tags": []
   },
   "outputs": [
    {
     "name": "stdout",
     "output_type": "stream",
     "text": [
      "Exception reporting mode: Verbose\n"
     ]
    }
   ],
   "source": [
    "# This cell tells Jupyter to provide detailed debugging information\n",
    "# when a runtime error occurs. Run it before working on the exercises.\n",
    "\n",
    "%xmode Verbose"
   ]
  },
  {
   "cell_type": "markdown",
   "id": "f92afde0",
   "metadata": {},
   "source": [
    "### Exercise\n",
    "\n",
    "Repeating my advice from the previous chapter, whenever you learn a new feature, you should make errors on purpose to see what goes wrong.\n",
    "\n",
    "-   We've seen that `n = 17` is legal. What about `17 = n`?\n",
    "\n",
    "-   How about `x = y = 1`?\n",
    "\n",
    "-   In some languages every statement ends with a semi-colon (`;`). What\n",
    "    happens if you put a semi-colon at the end of a Python statement?\n",
    "\n",
    "-   What if you put a period at the end of a statement?\n",
    "\n",
    "-   What happens if you spell the name of a module wrong and try to import `maath`?"
   ]
  },
  {
   "cell_type": "code",
   "execution_count": 3,
   "id": "612cdc76",
   "metadata": {},
   "outputs": [
    {
     "ename": "SyntaxError",
     "evalue": "cannot assign to literal here. Maybe you meant '==' instead of '='? (987350574.py, line 2)",
     "output_type": "error",
     "traceback": [
      "\u001b[0;36m  Cell \u001b[0;32mIn[3], line 2\u001b[0;36m\u001b[0m\n\u001b[0;31m    17 = n # raise SyntaxError\u001b[0m\n\u001b[0m    ^\u001b[0m\n\u001b[0;31mSyntaxError\u001b[0m\u001b[0;31m:\u001b[0m cannot assign to literal here. Maybe you meant '==' instead of '='?\n"
     ]
    }
   ],
   "source": [
    "n = 17\n",
    "17 = n # raise SyntaxError"
   ]
  },
  {
   "cell_type": "code",
   "execution_count": 8,
   "id": "cd4c0c71",
   "metadata": {},
   "outputs": [],
   "source": [
    "# valid assignment statements\n",
    "x = y = 1"
   ]
  },
  {
   "cell_type": "code",
   "execution_count": 109,
   "id": "62c61777",
   "metadata": {},
   "outputs": [
    {
     "name": "stdout",
     "output_type": "stream",
     "text": [
      "3.14\n",
      "3.14\n"
     ]
    }
   ],
   "source": [
    "# valid syntax\n",
    "pi = 3.14;  \n",
    "print(pi);\n",
    "\n",
    "# it can be used to use multiple statements on a single line\n",
    "pi = 3.14; print(pi)"
   ]
  },
  {
   "cell_type": "code",
   "execution_count": 17,
   "id": "80fb15fc",
   "metadata": {},
   "outputs": [
    {
     "ename": "SyntaxError",
     "evalue": "invalid syntax (3913441586.py, line 2)",
     "output_type": "error",
     "traceback": [
      "\u001b[0;36m  Cell \u001b[0;32mIn[17], line 2\u001b[0;36m\u001b[0m\n\u001b[0;31m    print(pi).\u001b[0m\n\u001b[0m              ^\u001b[0m\n\u001b[0;31mSyntaxError\u001b[0m\u001b[0;31m:\u001b[0m invalid syntax\n"
     ]
    }
   ],
   "source": [
    "# raise SyntaxError\n",
    "print(pi)."
   ]
  },
  {
   "cell_type": "code",
   "execution_count": 21,
   "id": "e5669dc1",
   "metadata": {},
   "outputs": [
    {
     "ename": "ModuleNotFoundError",
     "evalue": "No module named 'maath'",
     "output_type": "error",
     "traceback": [
      "\u001b[0;31m---------------------------------------------------------------------------\u001b[0m",
      "\u001b[0;31mModuleNotFoundError\u001b[0m                       Traceback (most recent call last)",
      "Cell \u001b[0;32mIn[21], line 1\u001b[0m\n\u001b[0;32m----> 1\u001b[0m \u001b[38;5;28;01mimport\u001b[39;00m\u001b[38;5;250m \u001b[39m\u001b[38;5;21;01mmaath\u001b[39;00m \u001b[38;5;66;03m# raise ModuleNotFoundError\u001b[39;00m\n",
      "\u001b[0;31mModuleNotFoundError\u001b[0m: No module named 'maath'"
     ]
    }
   ],
   "source": [
    "import maath # raise ModuleNotFoundError"
   ]
  },
  {
   "cell_type": "markdown",
   "id": "9d562609",
   "metadata": {},
   "source": [
    "### Exercise\n",
    "Practice using the Python interpreter as a calculator:\n",
    "\n",
    "**Part 1.**  The volume of a sphere with radius $r$ is $\\frac{4}{3} \\pi r^3$.\n",
    "What is the volume of a sphere with radius 5? Start with a variable named `radius` and then assign the result to a variable named `volume`. Display the result. Add comments to indicate that `radius` is in centimeters and `volume` in cubic centimeters."
   ]
  },
  {
   "cell_type": "code",
   "execution_count": 23,
   "id": "18de7d96",
   "metadata": {},
   "outputs": [
    {
     "name": "stdout",
     "output_type": "stream",
     "text": [
      "Sphere volume is 523.5987755982989 cubic centimeters\n"
     ]
    }
   ],
   "source": [
    "import math\n",
    "\n",
    "# sphere radius in centimeters\n",
    "radius = 5\n",
    "\n",
    "# sphere volume in cubic centimeters\n",
    "volume = 4/3 * math.pi * (radius ** 3)\n",
    "\n",
    "print(\"Sphere volume is\", volume, \"cubic centimeters\")"
   ]
  },
  {
   "cell_type": "markdown",
   "id": "6449b12b",
   "metadata": {},
   "source": [
    "**Part 2.** A rule of trigonometry says that for any value of $x$, $(\\cos x)^2 + (\\sin x)^2 = 1$. Let's see if it's true for a specific value of $x$ like 42.\n",
    "\n",
    "Create a variable named `x` with this value.\n",
    "Then use `math.cos` and `math.sin` to compute the sine and cosine of $x$, and the sum of their squared.\n",
    "\n",
    "The result should be close to 1. It might not be exactly 1 because floating-point arithmetic is not exact---it is only approximately correct."
   ]
  },
  {
   "cell_type": "code",
   "execution_count": 25,
   "id": "de812cff",
   "metadata": {},
   "outputs": [
    {
     "name": "stdout",
     "output_type": "stream",
     "text": [
      "1.0\n"
     ]
    }
   ],
   "source": [
    "x = 42\n",
    "\n",
    "test_result = (math.cos(x) ** 2) + (math.sin(x) ** 2)\n",
    "\n",
    "print(test_result)"
   ]
  },
  {
   "cell_type": "markdown",
   "id": "4986801f",
   "metadata": {},
   "source": [
    "**Part 3.** In addition to `pi`, the other variable defined in the `math` module is `e`, which represents the base of the natural logarithm, written in math notation as $e$. If you are not familiar with this value, ask a virtual assistant \"What is `math.e`?\" Now let's compute $e^2$ three ways:\n",
    "\n",
    "* Use `math.e` and the exponentiation operator (`**`).\n",
    "\n",
    "* Use `math.pow` to raise `math.e` to the power `2`.\n",
    "\n",
    "* Use `math.exp`, which takes as an argument a value, $x$, and computes $e^x$.\n",
    "\n",
    "You might notice that the last result is slightly different from the other two.\n",
    "See if you can find out which is correct."
   ]
  },
  {
   "cell_type": "code",
   "execution_count": 26,
   "id": "b4ada618",
   "metadata": {},
   "outputs": [
    {
     "data": {
      "text/plain": [
       "7.3890560989306495"
      ]
     },
     "execution_count": 26,
     "metadata": {},
     "output_type": "execute_result"
    }
   ],
   "source": [
    "math.e ** 2"
   ]
  },
  {
   "cell_type": "code",
   "execution_count": 27,
   "id": "4424940f",
   "metadata": {},
   "outputs": [
    {
     "data": {
      "text/plain": [
       "7.3890560989306495"
      ]
     },
     "execution_count": 27,
     "metadata": {},
     "output_type": "execute_result"
    }
   ],
   "source": [
    "math.pow(math.e, 2)"
   ]
  },
  {
   "cell_type": "code",
   "execution_count": 49,
   "id": "50e8393a",
   "metadata": {},
   "outputs": [
    {
     "data": {
      "text/plain": [
       "7.38905609893065"
      ]
     },
     "execution_count": 49,
     "metadata": {},
     "output_type": "execute_result"
    }
   ],
   "source": [
    "math.exp(2)"
   ]
  },
  {
   "cell_type": "markdown",
   "id": "91e5a869",
   "metadata": {},
   "source": [
    "`math.exp` is optimized at the C level, which makes it *faster* and more *accurate* compared to the `**` operator and `math.pow`.\n",
    "\n",
    "Moreover, using `math.exp` can help enhance the readability of code."
   ]
  },
  {
   "cell_type": "code",
   "execution_count": 106,
   "id": "e7a1846d",
   "metadata": {},
   "outputs": [
    {
     "name": "stdout",
     "output_type": "stream",
     "text": [
      "Execution time of `math.pow`: 0.000030 seconds\n",
      "Execution time of `math.exp`: 0.000022 seconds\n"
     ]
    }
   ],
   "source": [
    "import time\n",
    "\n",
    "exponent = 15\n",
    "\n",
    "start_time = time.perf_counter()\n",
    "math.pow(math.e, exponent)\n",
    "end_time = time.perf_counter()\n",
    "print(f\"Execution time of `math.pow`: {end_time - start_time:.6f} seconds\")\n",
    "\n",
    "start_time = time.perf_counter()\n",
    "math.exp(exponent)\n",
    "end_time = time.perf_counter()\n",
    "print(f\"Execution time of `math.exp`: {end_time - start_time:.6f} seconds\")"
   ]
  },
  {
   "cell_type": "markdown",
   "id": "a7f4edf8",
   "metadata": {
    "tags": []
   },
   "source": [
    "[Think Python: 3rd Edition](https://allendowney.github.io/ThinkPython/index.html)\n",
    "\n",
    "Copyright 2024 [Allen B. Downey](https://allendowney.com)\n",
    "\n",
    "Code license: [MIT License](https://mit-license.org/)\n",
    "\n",
    "Text license: [Creative Commons Attribution-NonCommercial-ShareAlike 4.0 International](https://creativecommons.org/licenses/by-nc-sa/4.0/)"
   ]
  }
 ],
 "metadata": {
  "celltoolbar": "Tags",
  "kernelspec": {
   "display_name": ".venv",
   "language": "python",
   "name": "python3"
  },
  "language_info": {
   "codemirror_mode": {
    "name": "ipython",
    "version": 3
   },
   "file_extension": ".py",
   "mimetype": "text/x-python",
   "name": "python",
   "nbconvert_exporter": "python",
   "pygments_lexer": "ipython3",
   "version": "3.13.1"
  }
 },
 "nbformat": 4,
 "nbformat_minor": 5
}
